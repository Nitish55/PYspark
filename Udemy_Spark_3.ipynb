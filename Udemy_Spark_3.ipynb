{
 "cells": [
  {
   "cell_type": "markdown",
   "metadata": {},
   "source": [
    "* RegEX\n",
    "* RegEX_replace\n",
    "* rlike\n",
    "* Date Functions,next_day,curent_day,current_timestamp, nextday, lastday, day_of_week, day_of_month, day_of_year, week_of_year, month_between, dateAdd, date_sub, monthAdd, date_diff, date_trunc, date_format\n",
    "* NULL Functions- isnull, isnan,nanvl\n",
    "* Elemnt_at, Size, Array, Array_max, Array_min, Array_distint, array_repeat, slice, Array_position, array_remove, sort_array, array_contains, array_union,array_except,array_intersect, array_join,arrays_zip, create_map, map_from_arrays, map_values,map_keys\n"
   ]
  },
  {
   "cell_type": "code",
   "execution_count": 1,
   "metadata": {},
   "outputs": [],
   "source": [
    "import findspark\n",
    "findspark.init()\n",
    "import pandas as pd\n",
    "import pyspark\n",
    "from pyspark.sql.functions import udf,col,length,expr,lit,lower,sumDistinct,sum,round,count,countDistinct,max,min,avg\n",
    "from pyspark.sql.types import IntegerType\n",
    "from pyspark.sql import SparkSession\n",
    "spark=SparkSession.builder.appName(\"Train_hard\").getOrCreate()\n",
    "from pyspark.sql.window import Window\n",
    "from pyspark.sql.window import *\n",
    "from pyspark.sql.functions import *"
   ]
  },
  {
   "attachments": {
    "image.png": {
     "image/png": "[encoded data removed]"
    }
   },
   "cell_type": "markdown",
   "metadata": {},
   "source": [
    "![image.png](attachment:image.png)\n"
   ]
  },
  {
   "cell_type": "code",
   "execution_count": 10,
   "metadata": {},
   "outputs": [
    {
     "name": "stdout",
     "output_type": "stream",
     "text": [
      "+--------+\n",
      "|     str|\n",
      "+--------+\n",
      "|11ss1 ab|\n",
      "+--------+\n",
      "\n"
     ]
    }
   ],
   "source": [
    "df=spark.createDataFrame([(\"11ss1 ab\",)],(\"str\",))\n",
    "df.show()"
   ]
  },
  {
   "cell_type": "code",
   "execution_count": 13,
   "metadata": {},
   "outputs": [
    {
     "name": "stdout",
     "output_type": "stream",
     "text": [
      "+--------+---------------+\n",
      "|     str|Regex_exprssion|\n",
      "+--------+---------------+\n",
      "|11ss1 ab|              1|\n",
      "+--------+---------------+\n",
      "\n"
     ]
    }
   ],
   "source": [
    "df.select(df.str,regexp_extract(df.str,\"(\\d)\",1).alias(\"Regex_exprssion\")).show() ## this 1 will extract frst group"
   ]
  },
  {
   "cell_type": "code",
   "execution_count": 17,
   "metadata": {},
   "outputs": [
    {
     "name": "stdout",
     "output_type": "stream",
     "text": [
      "+--------+---------------+\n",
      "|     str|Regex_exprssion|\n",
      "+--------+---------------+\n",
      "|11ss1 ab|             11|\n",
      "+--------+---------------+\n",
      "\n"
     ]
    }
   ],
   "source": [
    "df.select(df.str,regexp_extract(df.str,\"(\\d+)\",1).alias(\"Regex_exprssion\")).show() ## this 1 will extract frst group"
   ]
  },
  {
   "cell_type": "code",
   "execution_count": 18,
   "metadata": {},
   "outputs": [
    {
     "name": "stdout",
     "output_type": "stream",
     "text": [
      "+--------+---------------+\n",
      "|     str|Regex_exprssion|\n",
      "+--------+---------------+\n",
      "|11ss1 ab|             11|\n",
      "+--------+---------------+\n",
      "\n"
     ]
    }
   ],
   "source": [
    "df.select(df.str,regexp_extract(df.str,\"(\\d+)(\\w+)\",1).alias(\"Regex_exprssion\")).show()"
   ]
  },
  {
   "cell_type": "code",
   "execution_count": 19,
   "metadata": {},
   "outputs": [
    {
     "name": "stdout",
     "output_type": "stream",
     "text": [
      "+--------+---------------+\n",
      "|     str|Regex_exprssion|\n",
      "+--------+---------------+\n",
      "|11ss1 ab|            ss1|\n",
      "+--------+---------------+\n",
      "\n"
     ]
    }
   ],
   "source": [
    "df.select(df.str,regexp_extract(df.str,\"(\\d+)(\\w+)\",2).alias(\"Regex_exprssion\")).show() # 2 for acessing second group"
   ]
  },
  {
   "cell_type": "code",
   "execution_count": 20,
   "metadata": {},
   "outputs": [
    {
     "name": "stdout",
     "output_type": "stream",
     "text": [
      "+--------+---------------+\n",
      "|     str|Regex_exprssion|\n",
      "+--------+---------------+\n",
      "|11ss1 ab|               |\n",
      "+--------+---------------+\n",
      "\n"
     ]
    }
   ],
   "source": [
    "df.select(df.str,regexp_extract(df.str,\"(\\d+)(\\w+)(\\s)\",3).alias(\"Regex_exprssion\")).show() # 3 for acessing third group which\n",
    "                                                                                        # is a space"
   ]
  },
  {
   "cell_type": "code",
   "execution_count": 25,
   "metadata": {},
   "outputs": [
    {
     "name": "stdout",
     "output_type": "stream",
     "text": [
      "+--------+---------------+\n",
      "|     str|Regex_exprssion|\n",
      "+--------+---------------+\n",
      "|11ss1 ab|             ab|\n",
      "+--------+---------------+\n",
      "\n"
     ]
    }
   ],
   "source": [
    "df.select(df.str,regexp_extract(df.str,\"(\\d+)(\\w+)(\\s)([a-z]*)\",4).alias(\"Regex_exprssion\")).show()"
   ]
  },
  {
   "cell_type": "markdown",
   "metadata": {},
   "source": [
    "### Regex_replace-- replace a string where it finds a match"
   ]
  },
  {
   "cell_type": "code",
   "execution_count": 27,
   "metadata": {},
   "outputs": [
    {
     "name": "stdout",
     "output_type": "stream",
     "text": [
      "+--------+---------------+\n",
      "|     str|Regex_exprssion|\n",
      "+--------+---------------+\n",
      "|11ss1 ab|       XXssX ab|\n",
      "+--------+---------------+\n",
      "\n"
     ]
    }
   ],
   "source": [
    "df.select(df.str,regexp_replace(df.str,\"(\\d)\",\"X\").alias(\"Regex_exprssion\")).show()"
   ]
  },
  {
   "cell_type": "markdown",
   "metadata": {},
   "source": [
    "### if a adress ends with rd make it road if st make it street"
   ]
  },
  {
   "cell_type": "code",
   "execution_count": 2,
   "metadata": {},
   "outputs": [
    {
     "name": "stdout",
     "output_type": "stream",
     "text": [
      "+----+----------------+-------+\n",
      "|  id|          adress|   city|\n",
      "+----+----------------+-------+\n",
      "|2625|Indian school rd|Phoenix|\n",
      "|1234|       Thomas St|Newyork|\n",
      "+----+----------------+-------+\n",
      "\n"
     ]
    }
   ],
   "source": [
    "addr=[(2625,\"Indian school rd\",\"Phoenix\"),(1234,\"Thomas St\",\"Newyork\")]\n",
    "schema=[\"id\",\"adress\",\"city\"]\n",
    "df=spark.createDataFrame(data=addr,schema=schema)\n",
    "df.show()"
   ]
  },
  {
   "cell_type": "code",
   "execution_count": 54,
   "metadata": {},
   "outputs": [
    {
     "name": "stdout",
     "output_type": "stream",
     "text": [
      "+----+----------------+-------+------+\n",
      "|  id|          adress|   city|New_rd|\n",
      "+----+----------------+-------+------+\n",
      "|2625|Indian school rd|Phoenix|  Road|\n",
      "|1234|       Thomas St|Newyork|Street|\n",
      "+----+----------------+-------+------+\n",
      "\n"
     ]
    }
   ],
   "source": [
    "df1=df.withColumn(\"New_rd\",when(substring_index(df.adress,\" \",-1)==\"rd\",\"Road\").\\\n",
    "             when(substring_index(df.adress,\" \",-1)==\"St\",\"Street\"))\n",
    "df1.show()"
   ]
  },
  {
   "cell_type": "code",
   "execution_count": 56,
   "metadata": {},
   "outputs": [
    {
     "name": "stdout",
     "output_type": "stream",
     "text": [
      "+----+----------------+-------+------+------------------+\n",
      "|  id|          adress|   city|New_rd|               New|\n",
      "+----+----------------+-------+------+------------------+\n",
      "|2625|Indian school rd|Phoenix|  Road|Indian school Road|\n",
      "|1234|       Thomas St|Newyork|Street|     Thomas Street|\n",
      "+----+----------------+-------+------+------------------+\n",
      "\n"
     ]
    }
   ],
   "source": [
    "df1.withColumn(\"New\",when(substring_index(df1.adress,\" \",-1)==\"rd\",overlay(df1.adress,df1.New_rd,instr(df1.adress,\"rd\"))).\\\n",
    "                     when(substring_index(df1.adress,\" \",-1)==\"St\",overlay(df1.adress,df1.New_rd,instr(df.adress,\"St\")))).show()"
   ]
  },
  {
   "cell_type": "markdown",
   "metadata": {},
   "source": [
    "## Second approach"
   ]
  },
  {
   "cell_type": "code",
   "execution_count": 60,
   "metadata": {},
   "outputs": [
    {
     "name": "stdout",
     "output_type": "stream",
     "text": [
      "+----+----------------+-------+------------------+\n",
      "|  id|          adress|   city|          New_addr|\n",
      "+----+----------------+-------+------------------+\n",
      "|2625|Indian school rd|Phoenix|Indian school Road|\n",
      "|1234|       Thomas St|Newyork|     Thomas Street|\n",
      "+----+----------------+-------+------------------+\n",
      "\n"
     ]
    }
   ],
   "source": [
    "df.withColumn(\"New_addr\",when(df.adress.endswith(\"rd\"),regexp_replace(df.adress,\"rd\",\"Road\")).\\\n",
    "                         when(df.adress.endswith(\"St\"),regexp_replace(df.adress,\"St\",\"Street\")).\\\n",
    "                         otherwise(df.adress)).show()"
   ]
  },
  {
   "cell_type": "markdown",
   "metadata": {},
   "source": [
    "### Rlike"
   ]
  },
  {
   "cell_type": "code",
   "execution_count": 3,
   "metadata": {},
   "outputs": [
    {
     "name": "stdout",
     "output_type": "stream",
     "text": [
      "+--------+\n",
      "|     str|\n",
      "+--------+\n",
      "|11ss1 ab|\n",
      "+--------+\n",
      "\n"
     ]
    }
   ],
   "source": [
    "df=spark.createDataFrame([(\"11ss1 ab\",)],(\"str\",))\n",
    "df.show()"
   ]
  },
  {
   "cell_type": "markdown",
   "metadata": {},
   "source": [
    "#### Check the numbers pattern"
   ]
  },
  {
   "cell_type": "code",
   "execution_count": 5,
   "metadata": {},
   "outputs": [
    {
     "name": "stdout",
     "output_type": "stream",
     "text": [
      "+--------+-----+\n",
      "|     str|rlike|\n",
      "+--------+-----+\n",
      "|11ss1 ab| true|\n",
      "+--------+-----+\n",
      "\n"
     ]
    }
   ],
   "source": [
    "df.select(col(\"*\"),df.str.rlike(\"(\\d)\").alias(\"rlike\")).show()"
   ]
  },
  {
   "cell_type": "markdown",
   "metadata": {},
   "source": [
    "#### Check if there is any space"
   ]
  },
  {
   "cell_type": "code",
   "execution_count": 6,
   "metadata": {},
   "outputs": [
    {
     "name": "stdout",
     "output_type": "stream",
     "text": [
      "+--------+-----+\n",
      "|     str|rlike|\n",
      "+--------+-----+\n",
      "|11ss1 ab| true|\n",
      "+--------+-----+\n",
      "\n"
     ]
    }
   ],
   "source": [
    "df.select(col(\"*\"),df.str.rlike(\"(\\s)\").alias(\"rlike\")).show()"
   ]
  },
  {
   "cell_type": "markdown",
   "metadata": {},
   "source": [
    "### Date functions"
   ]
  },
  {
   "cell_type": "code",
   "execution_count": 3,
   "metadata": {},
   "outputs": [
    {
     "name": "stdout",
     "output_type": "stream",
     "text": [
      "+--------+-------------------+-----------------+---------------+\n",
      "|order_id|         order_date|order_customer_id|   order_status|\n",
      "+--------+-------------------+-----------------+---------------+\n",
      "|       1|2013-07-25 00:00:00|            11599|         CLOSED|\n",
      "|       2|2013-07-25 00:00:00|              256|PENDING_PAYMENT|\n",
      "|       3|2013-07-25 00:00:00|            12111|       COMPLETE|\n",
      "|       4|2013-07-25 00:00:00|             8827|         CLOSED|\n",
      "|       5|2013-07-25 00:00:00|            11318|       COMPLETE|\n",
      "+--------+-------------------+-----------------+---------------+\n",
      "only showing top 5 rows\n",
      "\n"
     ]
    }
   ],
   "source": [
    "df=spark.read.load('orders/part-00000',format=\"csv\",schema='order_id int,order_date timestamp,order_customer_id int, \\\n",
    "                   order_status string')\n",
    "df.show(5)"
   ]
  },
  {
   "cell_type": "code",
   "execution_count": 4,
   "metadata": {},
   "outputs": [
    {
     "name": "stdout",
     "output_type": "stream",
     "text": [
      "+--------+-------------------+-----------------+---------------+--------------+\n",
      "|order_id|         order_date|order_customer_id|   order_status|new_order_date|\n",
      "+--------+-------------------+-----------------+---------------+--------------+\n",
      "|       1|2013-07-25 00:00:00|            11599|         CLOSED|    2013-09-13|\n",
      "|       2|2013-07-25 00:00:00|              256|PENDING_PAYMENT|    2013-09-13|\n",
      "|       3|2013-07-25 00:00:00|            12111|       COMPLETE|    2013-09-13|\n",
      "|       4|2013-07-25 00:00:00|             8827|         CLOSED|    2013-09-13|\n",
      "|       5|2013-07-25 00:00:00|            11318|       COMPLETE|    2013-09-13|\n",
      "+--------+-------------------+-----------------+---------------+--------------+\n",
      "only showing top 5 rows\n",
      "\n"
     ]
    }
   ],
   "source": [
    "df_new=df.withColumn(\"new_order_date\",date_add(df.order_date,50))\n",
    "df_new.show(5)"
   ]
  },
  {
   "cell_type": "markdown",
   "metadata": {},
   "source": [
    "### current_date"
   ]
  },
  {
   "cell_type": "code",
   "execution_count": 11,
   "metadata": {},
   "outputs": [
    {
     "name": "stdout",
     "output_type": "stream",
     "text": [
      "+--------------+\n",
      "|current_date()|\n",
      "+--------------+\n",
      "|    2022-11-30|\n",
      "|    2022-11-30|\n",
      "|    2022-11-30|\n",
      "|    2022-11-30|\n",
      "|    2022-11-30|\n",
      "+--------------+\n",
      "only showing top 5 rows\n",
      "\n"
     ]
    }
   ],
   "source": [
    "df.select(current_date()).show(5)"
   ]
  },
  {
   "cell_type": "markdown",
   "metadata": {},
   "source": [
    "#### current_timestamp"
   ]
  },
  {
   "cell_type": "code",
   "execution_count": 15,
   "metadata": {},
   "outputs": [
    {
     "name": "stdout",
     "output_type": "stream",
     "text": [
      "+--------------------------+\n",
      "|current_timestamp()       |\n",
      "+--------------------------+\n",
      "|2022-11-30 23:25:51.030835|\n",
      "|2022-11-30 23:25:51.030835|\n",
      "|2022-11-30 23:25:51.030835|\n",
      "|2022-11-30 23:25:51.030835|\n",
      "|2022-11-30 23:25:51.030835|\n",
      "|2022-11-30 23:25:51.030835|\n",
      "|2022-11-30 23:25:51.030835|\n",
      "|2022-11-30 23:25:51.030835|\n",
      "|2022-11-30 23:25:51.030835|\n",
      "|2022-11-30 23:25:51.030835|\n",
      "|2022-11-30 23:25:51.030835|\n",
      "|2022-11-30 23:25:51.030835|\n",
      "|2022-11-30 23:25:51.030835|\n",
      "|2022-11-30 23:25:51.030835|\n",
      "|2022-11-30 23:25:51.030835|\n",
      "|2022-11-30 23:25:51.030835|\n",
      "|2022-11-30 23:25:51.030835|\n",
      "|2022-11-30 23:25:51.030835|\n",
      "|2022-11-30 23:25:51.030835|\n",
      "|2022-11-30 23:25:51.030835|\n",
      "+--------------------------+\n",
      "only showing top 20 rows\n",
      "\n"
     ]
    }
   ],
   "source": [
    "df.select(current_timestamp()).show(truncate=False)"
   ]
  },
  {
   "cell_type": "markdown",
   "metadata": {},
   "source": [
    "## Next_day\n",
    "* Using next day and passing quantifier \"Fri\" we are getting next friday date"
   ]
  },
  {
   "cell_type": "code",
   "execution_count": 30,
   "metadata": {},
   "outputs": [
    {
     "name": "stdout",
     "output_type": "stream",
     "text": [
      "+-------------------+----------+\n",
      "|         order_date|  Next_Fri|\n",
      "+-------------------+----------+\n",
      "|2013-09-01 00:00:00|2013-09-06|\n",
      "|2013-09-24 00:00:00|2013-09-27|\n",
      "|2013-11-19 00:00:00|2013-11-22|\n",
      "|2014-05-04 00:00:00|2014-05-09|\n",
      "|2014-05-21 00:00:00|2014-05-23|\n",
      "+-------------------+----------+\n",
      "only showing top 5 rows\n",
      "\n"
     ]
    }
   ],
   "source": [
    "df.select(df.order_date,next_day(df.order_date,\"Fri\").alias(\"Next_Fri\")).distinct().show(5)"
   ]
  },
  {
   "cell_type": "markdown",
   "metadata": {},
   "source": [
    "### Last_day\n",
    "* last date of the month"
   ]
  },
  {
   "cell_type": "code",
   "execution_count": 31,
   "metadata": {},
   "outputs": [
    {
     "name": "stdout",
     "output_type": "stream",
     "text": [
      "+-------------------+----------+\n",
      "|         order_date|  Last_day|\n",
      "+-------------------+----------+\n",
      "|2014-04-03 00:00:00|2014-04-30|\n",
      "|2014-07-04 00:00:00|2014-07-31|\n",
      "|2014-03-26 00:00:00|2014-03-31|\n",
      "|2014-07-18 00:00:00|2014-07-31|\n",
      "|2013-07-26 00:00:00|2013-07-31|\n",
      "+-------------------+----------+\n",
      "only showing top 5 rows\n",
      "\n"
     ]
    }
   ],
   "source": [
    "df.select(df.order_date,last_day(df.order_date).alias(\"Last_day\")).distinct().show(5)"
   ]
  },
  {
   "cell_type": "markdown",
   "metadata": {},
   "source": [
    "### day of week\n",
    "* print the day of the week where 1 is for Monday and 7 is for Sunday."
   ]
  },
  {
   "cell_type": "code",
   "execution_count": 32,
   "metadata": {},
   "outputs": [
    {
     "name": "stdout",
     "output_type": "stream",
     "text": [
      "+-------------------+---------+\n",
      "|         order_date|DayOfWeek|\n",
      "+-------------------+---------+\n",
      "|2013-11-02 00:00:00|        7|\n",
      "|2014-01-15 00:00:00|        4|\n",
      "|2013-08-05 00:00:00|        2|\n",
      "|2013-09-27 00:00:00|        6|\n",
      "|2013-10-20 00:00:00|        1|\n",
      "+-------------------+---------+\n",
      "only showing top 5 rows\n",
      "\n"
     ]
    }
   ],
   "source": [
    "df.select(df.order_date,dayofweek(df.order_date).alias(\"DayOfWeek\")).distinct().show(5)"
   ]
  },
  {
   "cell_type": "markdown",
   "metadata": {},
   "source": [
    "### Day of month"
   ]
  },
  {
   "cell_type": "code",
   "execution_count": 34,
   "metadata": {},
   "outputs": [
    {
     "name": "stdout",
     "output_type": "stream",
     "text": [
      "+-------------------+----------+\n",
      "|         order_date|DayOfMonth|\n",
      "+-------------------+----------+\n",
      "|2013-09-09 00:00:00|         9|\n",
      "|2013-11-03 00:00:00|         3|\n",
      "|2014-02-22 00:00:00|        22|\n",
      "|2014-02-24 00:00:00|        24|\n",
      "|2013-12-24 00:00:00|        24|\n",
      "+-------------------+----------+\n",
      "only showing top 5 rows\n",
      "\n"
     ]
    }
   ],
   "source": [
    "df.select(df.order_date,dayofmonth(df.order_date).alias(\"DayOfMonth\")).distinct().show(5)"
   ]
  },
  {
   "cell_type": "markdown",
   "metadata": {},
   "source": [
    "### day of year"
   ]
  },
  {
   "cell_type": "code",
   "execution_count": 35,
   "metadata": {},
   "outputs": [
    {
     "name": "stdout",
     "output_type": "stream",
     "text": [
      "+-------------------+---------+\n",
      "|         order_date|DayOfYear|\n",
      "+-------------------+---------+\n",
      "|2013-09-02 00:00:00|      245|\n",
      "|2013-10-05 00:00:00|      278|\n",
      "|2013-10-31 00:00:00|      304|\n",
      "|2014-03-01 00:00:00|       60|\n",
      "|2013-10-02 00:00:00|      275|\n",
      "+-------------------+---------+\n",
      "only showing top 5 rows\n",
      "\n"
     ]
    }
   ],
   "source": [
    "df.select(df.order_date,dayofyear(df.order_date).alias(\"DayOfYear\")).distinct().show(5)"
   ]
  },
  {
   "cell_type": "markdown",
   "metadata": {},
   "source": [
    "### week of the year"
   ]
  },
  {
   "cell_type": "code",
   "execution_count": 36,
   "metadata": {},
   "outputs": [
    {
     "name": "stdout",
     "output_type": "stream",
     "text": [
      "+-------------------+----------+\n",
      "|         order_date|WeekOfYear|\n",
      "+-------------------+----------+\n",
      "|2013-10-30 00:00:00|        44|\n",
      "|2014-04-09 00:00:00|        15|\n",
      "|2014-05-29 00:00:00|        22|\n",
      "|2013-10-17 00:00:00|        42|\n",
      "|2013-07-25 00:00:00|        30|\n",
      "+-------------------+----------+\n",
      "only showing top 5 rows\n",
      "\n"
     ]
    }
   ],
   "source": [
    "df.select(df.order_date,weekofyear(df.order_date).alias(\"WeekOfYear\")).distinct().show(5)"
   ]
  },
  {
   "cell_type": "markdown",
   "metadata": {},
   "source": [
    "## month_between()"
   ]
  },
  {
   "cell_type": "code",
   "execution_count": 5,
   "metadata": {},
   "outputs": [
    {
     "name": "stdout",
     "output_type": "stream",
     "text": [
      "+--------+-------------------+-----------------+---------------+--------------+\n",
      "|order_id|         order_date|order_customer_id|   order_status|new_order_date|\n",
      "+--------+-------------------+-----------------+---------------+--------------+\n",
      "|       1|2013-07-25 00:00:00|            11599|         CLOSED|    2013-09-13|\n",
      "|       2|2013-07-25 00:00:00|              256|PENDING_PAYMENT|    2013-09-13|\n",
      "+--------+-------------------+-----------------+---------------+--------------+\n",
      "only showing top 2 rows\n",
      "\n"
     ]
    }
   ],
   "source": [
    "df_new.show(2)"
   ]
  },
  {
   "cell_type": "markdown",
   "metadata": {},
   "source": [
    "### By default\n",
    "* roundoff is set to 8 digits"
   ]
  },
  {
   "cell_type": "code",
   "execution_count": 8,
   "metadata": {},
   "outputs": [
    {
     "name": "stdout",
     "output_type": "stream",
     "text": [
      "+--------+-------------------+-----------------+---------------+--------------+-------------+\n",
      "|order_id|         order_date|order_customer_id|   order_status|new_order_date|Month_between|\n",
      "+--------+-------------------+-----------------+---------------+--------------+-------------+\n",
      "|       1|2013-07-25 00:00:00|            11599|         CLOSED|    2013-09-13|   1.61290323|\n",
      "|       2|2013-07-25 00:00:00|              256|PENDING_PAYMENT|    2013-09-13|   1.61290323|\n",
      "|       3|2013-07-25 00:00:00|            12111|       COMPLETE|    2013-09-13|   1.61290323|\n",
      "|       4|2013-07-25 00:00:00|             8827|         CLOSED|    2013-09-13|   1.61290323|\n",
      "|       5|2013-07-25 00:00:00|            11318|       COMPLETE|    2013-09-13|   1.61290323|\n",
      "+--------+-------------------+-----------------+---------------+--------------+-------------+\n",
      "only showing top 5 rows\n",
      "\n"
     ]
    }
   ],
   "source": [
    "df_new.withColumn(\"Month_between\",months_between(df_new.new_order_date,df_new.order_date)).show(5)"
   ]
  },
  {
   "cell_type": "code",
   "execution_count": 9,
   "metadata": {},
   "outputs": [
    {
     "name": "stdout",
     "output_type": "stream",
     "text": [
      "+--------+-------------------+-----------------+---------------+--------------+------------------+\n",
      "|order_id|         order_date|order_customer_id|   order_status|new_order_date|     Month_between|\n",
      "+--------+-------------------+-----------------+---------------+--------------+------------------+\n",
      "|       1|2013-07-25 00:00:00|            11599|         CLOSED|    2013-09-13|1.6129032258064515|\n",
      "|       2|2013-07-25 00:00:00|              256|PENDING_PAYMENT|    2013-09-13|1.6129032258064515|\n",
      "|       3|2013-07-25 00:00:00|            12111|       COMPLETE|    2013-09-13|1.6129032258064515|\n",
      "|       4|2013-07-25 00:00:00|             8827|         CLOSED|    2013-09-13|1.6129032258064515|\n",
      "|       5|2013-07-25 00:00:00|            11318|       COMPLETE|    2013-09-13|1.6129032258064515|\n",
      "+--------+-------------------+-----------------+---------------+--------------+------------------+\n",
      "only showing top 5 rows\n",
      "\n"
     ]
    }
   ],
   "source": [
    "df_new.withColumn(\"Month_between\",months_between(df_new.new_order_date,df_new.order_date,roundOff=False)).show(5)"
   ]
  },
  {
   "cell_type": "markdown",
   "metadata": {},
   "source": [
    "### Date _add\n",
    "* Adding 5 days to current date"
   ]
  },
  {
   "cell_type": "code",
   "execution_count": 11,
   "metadata": {},
   "outputs": [
    {
     "name": "stdout",
     "output_type": "stream",
     "text": [
      "+--------------+---------------------------+\n",
      "|new_order_date|date_add(new_order_date, 5)|\n",
      "+--------------+---------------------------+\n",
      "|    2013-09-22|                 2013-09-27|\n",
      "|    2014-02-04|                 2014-02-09|\n",
      "|    2014-03-02|                 2014-03-07|\n",
      "|    2014-08-15|                 2014-08-20|\n",
      "|    2014-01-11|                 2014-01-16|\n",
      "+--------------+---------------------------+\n",
      "only showing top 5 rows\n",
      "\n"
     ]
    }
   ],
   "source": [
    "df_new.select(df_new.new_order_date,date_add(df_new.new_order_date,5)).distinct().show(5)"
   ]
  },
  {
   "cell_type": "markdown",
   "metadata": {},
   "source": [
    "### Add_month"
   ]
  },
  {
   "cell_type": "code",
   "execution_count": 5,
   "metadata": {},
   "outputs": [
    {
     "name": "stdout",
     "output_type": "stream",
     "text": [
      "+--------------+-----------------------------+\n",
      "|new_order_date|add_months(new_order_date, 3)|\n",
      "+--------------+-----------------------------+\n",
      "|    2014-03-10|                   2014-06-10|\n",
      "|    2014-05-24|                   2014-08-24|\n",
      "|    2014-06-23|                   2014-09-23|\n",
      "|    2013-12-11|                   2014-03-11|\n",
      "|    2014-05-06|                   2014-08-06|\n",
      "+--------------+-----------------------------+\n",
      "only showing top 5 rows\n",
      "\n"
     ]
    }
   ],
   "source": [
    "df_new.select(df_new.new_order_date,add_months(df_new.new_order_date,3)).distinct().show(5)"
   ]
  },
  {
   "cell_type": "markdown",
   "metadata": {},
   "source": [
    "### DateDiff"
   ]
  },
  {
   "cell_type": "code",
   "execution_count": 6,
   "metadata": {},
   "outputs": [
    {
     "name": "stdout",
     "output_type": "stream",
     "text": [
      "+--------------+-------------------+------------------------------------+\n",
      "|new_order_date|         order_date|datediff(new_order_date, order_date)|\n",
      "+--------------+-------------------+------------------------------------+\n",
      "|    2014-01-12|2013-11-23 00:00:00|                                  50|\n",
      "|    2013-11-10|2013-09-21 00:00:00|                                  50|\n",
      "|    2014-06-25|2014-05-06 00:00:00|                                  50|\n",
      "|    2014-09-08|2014-07-20 00:00:00|                                  50|\n",
      "|    2014-08-06|2014-06-17 00:00:00|                                  50|\n",
      "+--------------+-------------------+------------------------------------+\n",
      "only showing top 5 rows\n",
      "\n"
     ]
    }
   ],
   "source": [
    "df_new.select(df_new.new_order_date,df_new.order_date,datediff(df_new.new_order_date,df_new.order_date)).distinct().show(5)"
   ]
  },
  {
   "cell_type": "markdown",
   "metadata": {},
   "source": [
    "### Date_truc\n",
    "* Truncate date we can pass 'yyyy' as in example below truncated to 2013\n",
    "* mm trucated to same month* we can also do in \"dd\" ,\"hours- hh\" \"minute--mm\" , \"scond-ss\""
   ]
  },
  {
   "cell_type": "code",
   "execution_count": 9,
   "metadata": {},
   "outputs": [
    {
     "name": "stdout",
     "output_type": "stream",
     "text": [
      "+--------+-------------------+-----------------+---------------+-------------------+\n",
      "|order_id|         order_date|order_customer_id|   order_status|         order_year|\n",
      "+--------+-------------------+-----------------+---------------+-------------------+\n",
      "|     930|2013-07-30 00:00:00|              954|PENDING_PAYMENT|2013-01-01 00:00:00|\n",
      "|    1069|2013-07-30 00:00:00|             4683|SUSPECTED_FRAUD|2013-01-01 00:00:00|\n",
      "|    1099|2013-07-31 00:00:00|             2653|       COMPLETE|2013-01-01 00:00:00|\n",
      "|    1285|2013-07-31 00:00:00|             2543|     PROCESSING|2013-01-01 00:00:00|\n",
      "|    1429|2013-08-01 00:00:00|             5109|        ON_HOLD|2013-01-01 00:00:00|\n",
      "|    1448|2013-08-01 00:00:00|             1454|        PENDING|2013-01-01 00:00:00|\n",
      "|    1674|2013-08-02 00:00:00|             4364|       COMPLETE|2013-01-01 00:00:00|\n",
      "|    1820|2013-08-03 00:00:00|              590|       COMPLETE|2013-01-01 00:00:00|\n",
      "|    1910|2013-08-04 00:00:00|             2002|     PROCESSING|2013-01-01 00:00:00|\n",
      "|    2068|2013-08-05 00:00:00|             4788|         CLOSED|2013-01-01 00:00:00|\n",
      "+--------+-------------------+-----------------+---------------+-------------------+\n",
      "only showing top 10 rows\n",
      "\n"
     ]
    }
   ],
   "source": [
    "df.withColumn(\"order_year\",date_trunc(\"yyyy\",df.order_date).alias(\"Date_diff\")).distinct().show(10)"
   ]
  },
  {
   "cell_type": "code",
   "execution_count": 10,
   "metadata": {},
   "outputs": [
    {
     "name": "stdout",
     "output_type": "stream",
     "text": [
      "+--------+-------------------+-----------------+---------------+-------------------+\n",
      "|order_id|         order_date|order_customer_id|   order_status|         order_year|\n",
      "+--------+-------------------+-----------------+---------------+-------------------+\n",
      "|     106|2013-07-26 00:00:00|              395|     PROCESSING|2013-07-01 00:00:00|\n",
      "|     343|2013-07-26 00:00:00|            10952|       COMPLETE|2013-07-01 00:00:00|\n",
      "|     402|2013-07-27 00:00:00|             9547|PENDING_PAYMENT|2013-07-01 00:00:00|\n",
      "|     572|2013-07-28 00:00:00|             6691|        PENDING|2013-07-01 00:00:00|\n",
      "|     835|2013-07-29 00:00:00|            10640|       COMPLETE|2013-07-01 00:00:00|\n",
      "|    1690|2013-08-02 00:00:00|             7166|PENDING_PAYMENT|2013-08-01 00:00:00|\n",
      "|    1717|2013-08-02 00:00:00|               51|     PROCESSING|2013-08-01 00:00:00|\n",
      "|    1807|2013-08-03 00:00:00|             2847|     PROCESSING|2013-08-01 00:00:00|\n",
      "|    2069|2013-08-05 00:00:00|             1466|         CLOSED|2013-08-01 00:00:00|\n",
      "|    2285|2013-08-06 00:00:00|              734|         CLOSED|2013-08-01 00:00:00|\n",
      "+--------+-------------------+-----------------+---------------+-------------------+\n",
      "only showing top 10 rows\n",
      "\n"
     ]
    }
   ],
   "source": [
    "df.withColumn(\"order_year\",date_trunc(\"mm\",df.order_date).alias(\"Date_diff\")).distinct().show(10)"
   ]
  },
  {
   "cell_type": "markdown",
   "metadata": {},
   "source": [
    "### date_format-- Convet a date/timestamp/string to a value of string in the format specified by date"
   ]
  },
  {
   "cell_type": "code",
   "execution_count": 13,
   "metadata": {},
   "outputs": [
    {
     "name": "stdout",
     "output_type": "stream",
     "text": [
      "+--------+-------------------+-----------------+---------------+--------------+\n",
      "|order_id|         order_date|order_customer_id|   order_status|New_order_date|\n",
      "+--------+-------------------+-----------------+---------------+--------------+\n",
      "|       1|2013-07-25 00:00:00|            11599|         CLOSED|    2013/00/25|\n",
      "|       2|2013-07-25 00:00:00|              256|PENDING_PAYMENT|    2013/00/25|\n",
      "|       3|2013-07-25 00:00:00|            12111|       COMPLETE|    2013/00/25|\n",
      "|       4|2013-07-25 00:00:00|             8827|         CLOSED|    2013/00/25|\n",
      "|       5|2013-07-25 00:00:00|            11318|       COMPLETE|    2013/00/25|\n",
      "+--------+-------------------+-----------------+---------------+--------------+\n",
      "only showing top 5 rows\n",
      "\n"
     ]
    }
   ],
   "source": [
    "df1=df.withColumn(\"New_order_date\",date_format(df.order_date,\"yyyy/mm/dd\"))\n",
    "df1.show(5)"
   ]
  },
  {
   "cell_type": "code",
   "execution_count": 15,
   "metadata": {},
   "outputs": [
    {
     "name": "stdout",
     "output_type": "stream",
     "text": [
      "root\n",
      " |-- order_id: integer (nullable = true)\n",
      " |-- order_date: timestamp (nullable = true)\n",
      " |-- order_customer_id: integer (nullable = true)\n",
      " |-- order_status: string (nullable = true)\n",
      " |-- New_order_date: string (nullable = true)\n",
      "\n"
     ]
    }
   ],
   "source": [
    "df1.printSchema()"
   ]
  },
  {
   "cell_type": "markdown",
   "metadata": {},
   "source": [
    "## to_timestamp\n",
    "* Convert a string into time stamp provided data should be in \"yyyy/mm/dd\" format"
   ]
  },
  {
   "cell_type": "code",
   "execution_count": 19,
   "metadata": {},
   "outputs": [
    {
     "name": "stdout",
     "output_type": "stream",
     "text": [
      "root\n",
      " |-- order_id: integer (nullable = true)\n",
      " |-- order_date: timestamp (nullable = true)\n",
      " |-- order_customer_id: integer (nullable = true)\n",
      " |-- order_status: string (nullable = true)\n",
      " |-- New_order_date: string (nullable = true)\n",
      " |-- to_timestamp(New_order_date): timestamp (nullable = true)\n",
      "\n"
     ]
    }
   ],
   "source": [
    "df1=df1.select(col(\"*\"),to_timestamp(df1.New_order_date))\n",
    "df1.printSchema()"
   ]
  },
  {
   "cell_type": "markdown",
   "metadata": {},
   "source": [
    "### to_date\n",
    "* Same as to_timestamp"
   ]
  },
  {
   "cell_type": "code",
   "execution_count": 21,
   "metadata": {},
   "outputs": [
    {
     "name": "stdout",
     "output_type": "stream",
     "text": [
      "root\n",
      " |-- order_id: integer (nullable = true)\n",
      " |-- order_date: timestamp (nullable = true)\n",
      " |-- order_customer_id: integer (nullable = true)\n",
      " |-- order_status: string (nullable = true)\n",
      " |-- New_order_date: string (nullable = true)\n",
      "\n"
     ]
    }
   ],
   "source": [
    "df1=df.withColumn(\"New_order_date\",date_format(df.order_date,\"yyyy/mm/dd\"))\n",
    "df1.printSchema()"
   ]
  },
  {
   "cell_type": "code",
   "execution_count": 22,
   "metadata": {},
   "outputs": [
    {
     "name": "stdout",
     "output_type": "stream",
     "text": [
      "root\n",
      " |-- order_id: integer (nullable = true)\n",
      " |-- order_date: timestamp (nullable = true)\n",
      " |-- order_customer_id: integer (nullable = true)\n",
      " |-- order_status: string (nullable = true)\n",
      " |-- New_order_date: string (nullable = true)\n",
      " |-- to_date(New_order_date, yyyy/mm/dd): date (nullable = true)\n",
      "\n"
     ]
    }
   ],
   "source": [
    "df1=df1.select(col(\"*\"),to_date(df1.New_order_date,\"yyyy/mm/dd\"))\n",
    "df1.printSchema()"
   ]
  },
  {
   "cell_type": "markdown",
   "metadata": {},
   "source": [
    "### NULL Functions"
   ]
  },
  {
   "cell_type": "code",
   "execution_count": 2,
   "metadata": {},
   "outputs": [
    {
     "name": "stdout",
     "output_type": "stream",
     "text": [
      "+------+----+-----+-----+\n",
      "|  Name|  ID|Phone|StAdd|\n",
      "+------+----+-----+-----+\n",
      "|Robert|   1| null|114.0|\n",
      "|  John|null| 2577|  NaN|\n",
      "+------+----+-----+-----+\n",
      "\n"
     ]
    }
   ],
   "source": [
    "df=spark.createDataFrame([(\"Robert\",1,None,114.0),(\"John\",None,2577,float('nan'))],(\"Name\",\"ID\",\"Phone\",\"StAdd\"))\n",
    "df.show()"
   ]
  },
  {
   "cell_type": "markdown",
   "metadata": {},
   "source": [
    "### isnull()"
   ]
  },
  {
   "cell_type": "code",
   "execution_count": 3,
   "metadata": {},
   "outputs": [
    {
     "name": "stdout",
     "output_type": "stream",
     "text": [
      "+-----+---------------+\n",
      "|Phone|(Phone IS NULL)|\n",
      "+-----+---------------+\n",
      "| null|           true|\n",
      "| 2577|          false|\n",
      "+-----+---------------+\n",
      "\n"
     ]
    }
   ],
   "source": [
    "df.select(df.Phone,isnull(df.Phone)).show()"
   ]
  },
  {
   "cell_type": "markdown",
   "metadata": {},
   "source": [
    "### isnan()-- Not a number"
   ]
  },
  {
   "cell_type": "code",
   "execution_count": 4,
   "metadata": {},
   "outputs": [
    {
     "name": "stdout",
     "output_type": "stream",
     "text": [
      "+-----+------------+\n",
      "|StAdd|isnan(StAdd)|\n",
      "+-----+------------+\n",
      "|114.0|       false|\n",
      "|  NaN|        true|\n",
      "+-----+------------+\n",
      "\n"
     ]
    }
   ],
   "source": [
    "df.select(df.StAdd,isnan(df.StAdd)).show()"
   ]
  },
  {
   "cell_type": "markdown",
   "metadata": {},
   "source": [
    "### NanVL()- Return frst nonmissing value"
   ]
  },
  {
   "cell_type": "code",
   "execution_count": 7,
   "metadata": {},
   "outputs": [
    {
     "name": "stdout",
     "output_type": "stream",
     "text": [
      "+------+----+-----+-----+-------------------+\n",
      "|  Name|  ID|Phone|StAdd|nanvl(StAdd, Phone)|\n",
      "+------+----+-----+-----+-------------------+\n",
      "|Robert|   1| null|114.0|              114.0|\n",
      "|  John|null| 2577|  NaN|             2577.0|\n",
      "+------+----+-----+-----+-------------------+\n",
      "\n"
     ]
    }
   ],
   "source": [
    "df.select(col(\"*\"),nanvl(df.StAdd,df.Phone)).show()"
   ]
  },
  {
   "cell_type": "markdown",
   "metadata": {},
   "source": [
    "### Coalesce-- Return the first column that is not null"
   ]
  },
  {
   "cell_type": "code",
   "execution_count": 10,
   "metadata": {},
   "outputs": [
    {
     "name": "stdout",
     "output_type": "stream",
     "text": [
      "+-----+-----+----------------------+\n",
      "|Phone|StAdd|coalesce(Phone, StAdd)|\n",
      "+-----+-----+----------------------+\n",
      "| null|114.0|                 114.0|\n",
      "| 2577|  NaN|                2577.0|\n",
      "+-----+-----+----------------------+\n",
      "\n"
     ]
    }
   ],
   "source": [
    "df.select(df.Phone,df.StAdd,coalesce(df.Phone,df.StAdd)).show()"
   ]
  },
  {
   "cell_type": "code",
   "execution_count": 11,
   "metadata": {},
   "outputs": [
    {
     "name": "stdout",
     "output_type": "stream",
     "text": [
      "+-----+-----+----------------------+\n",
      "|Phone|StAdd|coalesce(StAdd, Phone)|\n",
      "+-----+-----+----------------------+\n",
      "| null|114.0|                 114.0|\n",
      "| 2577|  NaN|                   NaN|\n",
      "+-----+-----+----------------------+\n",
      "\n"
     ]
    }
   ],
   "source": [
    "df.select(df.Phone,df.StAdd,coalesce(df.StAdd,df.Phone)).show()"
   ]
  },
  {
   "cell_type": "markdown",
   "metadata": {},
   "source": [
    "### Here-\n",
    "* we get NaN coz its a Not a number its not a null"
   ]
  },
  {
   "cell_type": "markdown",
   "metadata": {},
   "source": [
    "## DataFrame Built-in Functions"
   ]
  },
  {
   "cell_type": "code",
   "execution_count": 3,
   "metadata": {},
   "outputs": [
    {
     "name": "stdout",
     "output_type": "stream",
     "text": [
      "+---------+--------+--------------------+-----------------------------+\n",
      "|FirstName|LastName|Languages           |Properties                   |\n",
      "+---------+--------+--------------------+-----------------------------+\n",
      "|Alicia   |Joseph  |[Java, Scala, Spark]|{Eye -> Brown, Hair -> Black}|\n",
      "|Robert   |Gee     |[Spark, Java]       |{Eye -> null, Hair -> Brown} |\n",
      "|Mike     |Bianca  |[CSharp]            |{Eye -> , Hair -> Red}       |\n",
      "|John     |Kumar   |null                |null                         |\n",
      "|Jeff     |L       |[1, 2]              |{}                           |\n",
      "+---------+--------+--------------------+-----------------------------+\n",
      "\n"
     ]
    }
   ],
   "source": [
    "data=[(\"Alicia\",\"Joseph\",[\"Java\",\"Scala\",\"Spark\"],{\"Hair\":\"Black\",\"Eye\":\"Brown\"}),\\\n",
    "     (\"Robert\",\"Gee\",[\"Spark\",\"Java\"],{\"Hair\":\"Brown\",\"Eye\":None}),\\\n",
    "     (\"Mike\",\"Bianca\",[\"CSharp\"],{\"Hair\":\"Red\",\"Eye\":\"\"}),\\\n",
    "     (\"John\",\"Kumar\",None,None),\\\n",
    "     (\"Jeff\",\"L\",[\"1\",\"2\"],{})]\n",
    "schema=[\"FirstName\",\"LastName\",\"Languages\",\"Properties\"]\n",
    "emp1=spark.createDataFrame(data,schema)\n",
    "emp1.show(truncate=False)"
   ]
  },
  {
   "cell_type": "code",
   "execution_count": 4,
   "metadata": {},
   "outputs": [
    {
     "name": "stdout",
     "output_type": "stream",
     "text": [
      "+------+------+------+------+\n",
      "|  Name|Score1|Score2|Score3|\n",
      "+------+------+------+------+\n",
      "|Robert|    35|    40|    40|\n",
      "|   Ram|    31|    33|    29|\n",
      "|  John|    95|    89|    91|\n",
      "+------+------+------+------+\n",
      "\n"
     ]
    }
   ],
   "source": [
    "data=[(\"Robert\",35,40,40),(\"Ram\",31,33,29),(\"John\",95,89,91)]\n",
    "schema=[\"Name\",\"Score1\",\"Score2\",\"Score3\"]\n",
    "emp2=spark.createDataFrame(data,schema)\n",
    "emp2.show()"
   ]
  },
  {
   "cell_type": "code",
   "execution_count": 5,
   "metadata": {},
   "outputs": [
    {
     "name": "stdout",
     "output_type": "stream",
     "text": [
      "+-------+------------+-------------+\n",
      "|Empname|  Score_arr1|   Score_arr2|\n",
      "+-------+------------+-------------+\n",
      "|   John|[10, 20, 20]| [25, 11, 10]|\n",
      "| Robert|[15, 13, 55]|[5, null, 29]|\n",
      "|  James|[11, 13, 45]|  [5, 89, 79]|\n",
      "+-------+------------+-------------+\n",
      "\n"
     ]
    }
   ],
   "source": [
    "data=[(\"John\",[10,20,20],[25,11,10]),\n",
    "      (\"Robert\",[15,13,55],[5,None,29]),\n",
    "      (\"James\",[11,13,45],[5,89,79])]\n",
    "schema=[\"Empname\",\"Score_arr1\",\"Score_arr2\"]\n",
    "emp3=spark.createDataFrame(data,schema)\n",
    "emp3.show()"
   ]
  },
  {
   "cell_type": "code",
   "execution_count": 6,
   "metadata": {},
   "outputs": [
    {
     "name": "stdout",
     "output_type": "stream",
     "text": [
      "root\n",
      " |-- data: array (nullable = false)\n",
      " |    |-- element: struct (containsNull = false)\n",
      " |    |    |-- col1: integer (nullable = false)\n",
      " |    |    |-- col2: string (nullable = false)\n",
      "\n"
     ]
    }
   ],
   "source": [
    "df=spark.sql(\"Select array(struct(1,'a'),struct(2,'b')) as data\")\n",
    "df.printSchema()"
   ]
  },
  {
   "cell_type": "code",
   "execution_count": 7,
   "metadata": {},
   "outputs": [
    {
     "name": "stdout",
     "output_type": "stream",
     "text": [
      "+----------------+\n",
      "|            data|\n",
      "+----------------+\n",
      "|[{1, a}, {2, b}]|\n",
      "+----------------+\n",
      "\n"
     ]
    }
   ],
   "source": [
    "df.show()"
   ]
  },
  {
   "cell_type": "markdown",
   "metadata": {},
   "source": [
    "#### SIZE"
   ]
  },
  {
   "cell_type": "code",
   "execution_count": 20,
   "metadata": {},
   "outputs": [
    {
     "name": "stdout",
     "output_type": "stream",
     "text": [
      "+---------+--------+--------------------+-----------------------------+\n",
      "|FirstName|LastName|Languages           |Properties                   |\n",
      "+---------+--------+--------------------+-----------------------------+\n",
      "|Alicia   |Joseph  |[Java, Scala, Spark]|{Eye -> Brown, Hair -> Black}|\n",
      "|Robert   |Gee     |[Spark, Java]       |{Eye -> null, Hair -> Brown} |\n",
      "|Mike     |Bianca  |[CSharp]            |{Eye -> , Hair -> Red}       |\n",
      "|John     |Kumar   |null                |null                         |\n",
      "|Jeff     |L       |[1, 2]              |{}                           |\n",
      "+---------+--------+--------------------+-----------------------------+\n",
      "\n"
     ]
    }
   ],
   "source": [
    "emp1.show(truncate=False)"
   ]
  },
  {
   "cell_type": "code",
   "execution_count": 21,
   "metadata": {},
   "outputs": [
    {
     "name": "stdout",
     "output_type": "stream",
     "text": [
      "+---------------+----------------+\n",
      "|size(Languages)|size(Properties)|\n",
      "+---------------+----------------+\n",
      "|              3|               2|\n",
      "|              2|               2|\n",
      "|              1|               2|\n",
      "|             -1|              -1|\n",
      "|              2|               0|\n",
      "+---------------+----------------+\n",
      "\n"
     ]
    }
   ],
   "source": [
    "emp1.select(size(\"Languages\"),size('Properties')).show()\n",
    "# Since [Java, Scala, Spark] array total is 3 so 3 is aagined\n",
    "# For NUll -1 is assigned\n",
    "# For Jeff in Properties it have {} so value is 0"
   ]
  },
  {
   "cell_type": "markdown",
   "metadata": {},
   "source": [
    "### element_at(col,extraction)\n",
    "* Return element of array at given index in extraction if col is array\n",
    "* Return value for the given key in extraction if col is map"
   ]
  },
  {
   "cell_type": "code",
   "execution_count": 23,
   "metadata": {},
   "outputs": [
    {
     "name": "stdout",
     "output_type": "stream",
     "text": [
      "+------------------------+---------------------------+\n",
      "|element_at(Languages, 1)|element_at(Properties, Eye)|\n",
      "+------------------------+---------------------------+\n",
      "|                    Java|                      Brown|\n",
      "|                   Spark|                       null|\n",
      "|                  CSharp|                           |\n",
      "|                    null|                       null|\n",
      "|                       1|                       null|\n",
      "+------------------------+---------------------------+\n",
      "\n"
     ]
    }
   ],
   "source": [
    "emp1.select(element_at(\"Languages\",1),element_at('Properties',\"Eye\")).show()\n",
    "# here we use 1 coz we want to select frst index i.e java abd key \"Eye\" from the properties i.e brown"
   ]
  },
  {
   "cell_type": "markdown",
   "metadata": {},
   "source": [
    "### Array()"
   ]
  },
  {
   "cell_type": "code",
   "execution_count": 24,
   "metadata": {},
   "outputs": [
    {
     "name": "stdout",
     "output_type": "stream",
     "text": [
      "+------+------+------+------+\n",
      "|  Name|Score1|Score2|Score3|\n",
      "+------+------+------+------+\n",
      "|Robert|    35|    40|    40|\n",
      "|   Ram|    31|    33|    29|\n",
      "|  John|    95|    89|    91|\n",
      "+------+------+------+------+\n",
      "\n"
     ]
    }
   ],
   "source": [
    "emp2.show()"
   ]
  },
  {
   "cell_type": "code",
   "execution_count": 27,
   "metadata": {},
   "outputs": [
    {
     "name": "stdout",
     "output_type": "stream",
     "text": [
      "+------+------+------+------+-----------------------------+\n",
      "|  Name|Score1|Score2|Score3|array(Score1, Score2, Score3)|\n",
      "+------+------+------+------+-----------------------------+\n",
      "|Robert|    35|    40|    40|                 [35, 40, 40]|\n",
      "|   Ram|    31|    33|    29|                 [31, 33, 29]|\n",
      "|  John|    95|    89|    91|                 [95, 89, 91]|\n",
      "+------+------+------+------+-----------------------------+\n",
      "\n"
     ]
    }
   ],
   "source": [
    "emp2.select(col(\"*\"),array(\"Score1\",\"Score2\",\"Score3\")).show()"
   ]
  },
  {
   "cell_type": "markdown",
   "metadata": {},
   "source": [
    "### Array_Max"
   ]
  },
  {
   "cell_type": "code",
   "execution_count": 28,
   "metadata": {},
   "outputs": [
    {
     "name": "stdout",
     "output_type": "stream",
     "text": [
      "+-------+------------+-------------+\n",
      "|Empname|  Score_arr1|   Score_arr2|\n",
      "+-------+------------+-------------+\n",
      "|   John|[10, 20, 20]| [25, 11, 10]|\n",
      "| Robert|[15, 13, 55]|[5, null, 29]|\n",
      "|  James|[11, 13, 45]|  [5, 89, 79]|\n",
      "+-------+------------+-------------+\n",
      "\n"
     ]
    }
   ],
   "source": [
    "emp3.show()"
   ]
  },
  {
   "cell_type": "code",
   "execution_count": 33,
   "metadata": {},
   "outputs": [
    {
     "name": "stdout",
     "output_type": "stream",
     "text": [
      "+------------+-------------+---------------------+--------------+\n",
      "|  Score_arr1|   Score_arr2|Score_arr1_Max_elemnt|Score_arr1_min|\n",
      "+------------+-------------+---------------------+--------------+\n",
      "|[10, 20, 20]| [25, 11, 10]|                   20|            10|\n",
      "|[15, 13, 55]|[5, null, 29]|                   55|             5|\n",
      "|[11, 13, 45]|  [5, 89, 79]|                   45|             5|\n",
      "+------------+-------------+---------------------+--------------+\n",
      "\n"
     ]
    }
   ],
   "source": [
    "emp3.select(col(\"Score_arr1\"),col(\"Score_arr2\"),array_max(emp3.Score_arr1).\\\n",
    "            alias(\"Score_arr1_Max_elemnt\"),array_min(emp3.Score_arr2).alias(\"Score_arr1_min\")).show()"
   ]
  },
  {
   "cell_type": "markdown",
   "metadata": {},
   "source": [
    "### Array_distinct()"
   ]
  },
  {
   "cell_type": "code",
   "execution_count": 34,
   "metadata": {},
   "outputs": [
    {
     "name": "stdout",
     "output_type": "stream",
     "text": [
      "+------------+-------------+--------------------------+-------------------+\n",
      "|  Score_arr1|   Score_arr2|Score_arr1_Distinct_elemnt|Score_arr1_Distinct|\n",
      "+------------+-------------+--------------------------+-------------------+\n",
      "|[10, 20, 20]| [25, 11, 10]|                  [10, 20]|       [25, 11, 10]|\n",
      "|[15, 13, 55]|[5, null, 29]|              [15, 13, 55]|      [5, null, 29]|\n",
      "|[11, 13, 45]|  [5, 89, 79]|              [11, 13, 45]|        [5, 89, 79]|\n",
      "+------------+-------------+--------------------------+-------------------+\n",
      "\n"
     ]
    }
   ],
   "source": [
    "emp3.select(col(\"Score_arr1\"),col(\"Score_arr2\"),array_distinct(emp3.Score_arr1).\\\n",
    "            alias(\"Score_arr1_Distinct_elemnt\"),array_distinct(emp3.Score_arr2).alias(\"Score_arr1_Distinct\")).show()"
   ]
  },
  {
   "cell_type": "markdown",
   "metadata": {},
   "source": [
    "### Array_repeat()"
   ]
  },
  {
   "cell_type": "code",
   "execution_count": 8,
   "metadata": {},
   "outputs": [
    {
     "name": "stdout",
     "output_type": "stream",
     "text": [
      "+-------+------------+-------------+\n",
      "|Empname|  Score_arr1|   Score_arr2|\n",
      "+-------+------------+-------------+\n",
      "|   John|[10, 20, 20]| [25, 11, 10]|\n",
      "| Robert|[15, 13, 55]|[5, null, 29]|\n",
      "|  James|[11, 13, 45]|  [5, 89, 79]|\n",
      "+-------+------------+-------------+\n",
      "\n"
     ]
    }
   ],
   "source": [
    "emp3.show()"
   ]
  },
  {
   "cell_type": "code",
   "execution_count": 11,
   "metadata": {},
   "outputs": [
    {
     "name": "stdout",
     "output_type": "stream",
     "text": [
      "+------------+------------------------------------------+\n",
      "|Score_arr1  |array_repeat(Score_arr1, 3)               |\n",
      "+------------+------------------------------------------+\n",
      "|[10, 20, 20]|[[10, 20, 20], [10, 20, 20], [10, 20, 20]]|\n",
      "|[15, 13, 55]|[[15, 13, 55], [15, 13, 55], [15, 13, 55]]|\n",
      "|[11, 13, 45]|[[11, 13, 45], [11, 13, 45], [11, 13, 45]]|\n",
      "+------------+------------------------------------------+\n",
      "\n"
     ]
    }
   ],
   "source": [
    "emp3.select(emp3.Score_arr1,array_repeat(emp3.Score_arr1,3)).show(truncate=False)"
   ]
  },
  {
   "cell_type": "markdown",
   "metadata": {},
   "source": [
    "##### Using Flatten"
   ]
  },
  {
   "cell_type": "code",
   "execution_count": 13,
   "metadata": {},
   "outputs": [
    {
     "name": "stdout",
     "output_type": "stream",
     "text": [
      "+------------------------------------+\n",
      "|flatten(array_repeat(Score_arr1, 3))|\n",
      "+------------------------------------+\n",
      "|[10, 20, 20, 10, 20, 20, 10, 20, 20]|\n",
      "|[15, 13, 55, 15, 13, 55, 15, 13, 55]|\n",
      "|[11, 13, 45, 11, 13, 45, 11, 13, 45]|\n",
      "+------------------------------------+\n",
      "\n"
     ]
    }
   ],
   "source": [
    "emp3.select(flatten(array_repeat(emp3.Score_arr1,3))).show(truncate=False)"
   ]
  },
  {
   "cell_type": "markdown",
   "metadata": {},
   "source": [
    "#### Using array_distinct"
   ]
  },
  {
   "cell_type": "code",
   "execution_count": 14,
   "metadata": {},
   "outputs": [
    {
     "name": "stdout",
     "output_type": "stream",
     "text": [
      "+----------------------------------------------------+\n",
      "|array_distinct(flatten(array_repeat(Score_arr1, 3)))|\n",
      "+----------------------------------------------------+\n",
      "|[10, 20]                                            |\n",
      "|[15, 13, 55]                                        |\n",
      "|[11, 13, 45]                                        |\n",
      "+----------------------------------------------------+\n",
      "\n"
     ]
    }
   ],
   "source": [
    "emp3.select(array_distinct(flatten(array_repeat(emp3.Score_arr1,3)))).show(truncate=False)"
   ]
  },
  {
   "cell_type": "markdown",
   "metadata": {},
   "source": [
    "### Slice-- slice array from the provided postions"
   ]
  },
  {
   "cell_type": "code",
   "execution_count": 15,
   "metadata": {},
   "outputs": [
    {
     "name": "stdout",
     "output_type": "stream",
     "text": [
      "+---------+--------+--------------------+--------------------+\n",
      "|FirstName|LastName|           Languages|          Properties|\n",
      "+---------+--------+--------------------+--------------------+\n",
      "|   Alicia|  Joseph|[Java, Scala, Spark]|{Eye -> Brown, Ha...|\n",
      "|   Robert|     Gee|       [Spark, Java]|{Eye -> null, Hai...|\n",
      "|     Mike|  Bianca|            [CSharp]|{Eye -> , Hair ->...|\n",
      "|     John|   Kumar|                null|                null|\n",
      "|     Jeff|       L|              [1, 2]|                  {}|\n",
      "+---------+--------+--------------------+--------------------+\n",
      "\n"
     ]
    }
   ],
   "source": [
    "emp1.show()"
   ]
  },
  {
   "cell_type": "markdown",
   "metadata": {},
   "source": [
    "* Slice languages from index 1 to 2 i.e Java,Scala likewise"
   ]
  },
  {
   "cell_type": "code",
   "execution_count": 17,
   "metadata": {},
   "outputs": [
    {
     "name": "stdout",
     "output_type": "stream",
     "text": [
      "+--------------------+----------------------+\n",
      "|Languages           |slice(Languages, 1, 2)|\n",
      "+--------------------+----------------------+\n",
      "|[Java, Scala, Spark]|[Java, Scala]         |\n",
      "|[Spark, Java]       |[Spark, Java]         |\n",
      "|[CSharp]            |[CSharp]              |\n",
      "|null                |null                  |\n",
      "|[1, 2]              |[1, 2]                |\n",
      "+--------------------+----------------------+\n",
      "\n"
     ]
    }
   ],
   "source": [
    "emp1.select(emp1.Languages,slice(emp1.Languages,1,2)).show(truncate=False)"
   ]
  },
  {
   "cell_type": "markdown",
   "metadata": {},
   "source": [
    "## Array_position"
   ]
  },
  {
   "cell_type": "code",
   "execution_count": 18,
   "metadata": {},
   "outputs": [
    {
     "name": "stdout",
     "output_type": "stream",
     "text": [
      "+-------+------------+-------------+\n",
      "|Empname|  Score_arr1|   Score_arr2|\n",
      "+-------+------------+-------------+\n",
      "|   John|[10, 20, 20]| [25, 11, 10]|\n",
      "| Robert|[15, 13, 55]|[5, null, 29]|\n",
      "|  James|[11, 13, 45]|  [5, 89, 79]|\n",
      "+-------+------------+-------------+\n",
      "\n"
     ]
    }
   ],
   "source": [
    "emp3.show()"
   ]
  },
  {
   "cell_type": "code",
   "execution_count": 20,
   "metadata": {},
   "outputs": [
    {
     "name": "stdout",
     "output_type": "stream",
     "text": [
      "+-------+------------+-------------+------------------------------+\n",
      "|Empname|  Score_arr1|   Score_arr2|array_position(Score_arr1, 13)|\n",
      "+-------+------------+-------------+------------------------------+\n",
      "|   John|[10, 20, 20]| [25, 11, 10]|                             0|\n",
      "| Robert|[15, 13, 55]|[5, null, 29]|                             2|\n",
      "|  James|[11, 13, 45]|  [5, 89, 79]|                             2|\n",
      "+-------+------------+-------------+------------------------------+\n",
      "\n"
     ]
    }
   ],
   "source": [
    "emp3.select(col(\"*\"),array_position(emp3.Score_arr1,13)).show()\n",
    "## pition of eent 13 is 2 on Robert, similarlt 2 in case of James"
   ]
  },
  {
   "cell_type": "markdown",
   "metadata": {},
   "source": [
    "## Array_remove"
   ]
  },
  {
   "cell_type": "code",
   "execution_count": 23,
   "metadata": {},
   "outputs": [
    {
     "name": "stdout",
     "output_type": "stream",
     "text": [
      "+------------+----------------------------+\n",
      "|  Score_arr1|array_remove(Score_arr1, 13)|\n",
      "+------------+----------------------------+\n",
      "|[10, 20, 20]|                [10, 20, 20]|\n",
      "|[15, 13, 55]|                    [15, 55]|\n",
      "|[11, 13, 45]|                    [11, 45]|\n",
      "+------------+----------------------------+\n",
      "\n"
     ]
    }
   ],
   "source": [
    "emp3.select(col(\"Score_arr1\"),array_remove(emp3.Score_arr1,13)).show()"
   ]
  },
  {
   "cell_type": "markdown",
   "metadata": {},
   "source": [
    "## Sort_array()"
   ]
  },
  {
   "cell_type": "code",
   "execution_count": 37,
   "metadata": {},
   "outputs": [
    {
     "name": "stdout",
     "output_type": "stream",
     "text": [
      "+------------+-----------------------------+\n",
      "|  Score_arr1|sort_array(Score_arr1, false)|\n",
      "+------------+-----------------------------+\n",
      "|[10, 20, 20]|                 [20, 20, 10]|\n",
      "|[15, 13, 55]|                 [55, 15, 13]|\n",
      "|[11, 13, 45]|                 [45, 13, 11]|\n",
      "+------------+-----------------------------+\n",
      "\n"
     ]
    }
   ],
   "source": [
    "emp3.select(col(\"Score_arr1\"),sort_array(emp3.Score_arr1,asc=False)).show()"
   ]
  },
  {
   "cell_type": "markdown",
   "metadata": {},
   "source": [
    "## Array_contains"
   ]
  },
  {
   "cell_type": "code",
   "execution_count": 39,
   "metadata": {},
   "outputs": [
    {
     "name": "stdout",
     "output_type": "stream",
     "text": [
      "+-------------+------------------------------+\n",
      "|   Score_arr2|array_contains(Score_arr2, 11)|\n",
      "+-------------+------------------------------+\n",
      "| [25, 11, 10]|                          true|\n",
      "|[5, null, 29]|                          null|\n",
      "|  [5, 89, 79]|                         false|\n",
      "+-------------+------------------------------+\n",
      "\n"
     ]
    }
   ],
   "source": [
    "emp3.select(col(\"Score_arr2\"),array_contains(emp3.Score_arr2,11)).show()"
   ]
  },
  {
   "cell_type": "markdown",
   "metadata": {},
   "source": [
    "## Here\n",
    "* we get null as there is null value and not the number we are searching for"
   ]
  },
  {
   "cell_type": "code",
   "execution_count": 40,
   "metadata": {},
   "outputs": [
    {
     "name": "stdout",
     "output_type": "stream",
     "text": [
      "+-------------+-----------------------------+\n",
      "|   Score_arr2|array_contains(Score_arr2, 5)|\n",
      "+-------------+-----------------------------+\n",
      "| [25, 11, 10]|                        false|\n",
      "|[5, null, 29]|                         true|\n",
      "|  [5, 89, 79]|                         true|\n",
      "+-------------+-----------------------------+\n",
      "\n"
     ]
    }
   ],
   "source": [
    "emp3.select(col(\"Score_arr2\"),array_contains(emp3.Score_arr2,5)).show()"
   ]
  },
  {
   "cell_type": "markdown",
   "metadata": {},
   "source": [
    "## Array_union\n",
    "* combine the two arrays by removing the duplicates"
   ]
  },
  {
   "cell_type": "code",
   "execution_count": 42,
   "metadata": {},
   "outputs": [
    {
     "name": "stdout",
     "output_type": "stream",
     "text": [
      "+-------+------------+-------------+-----------------------------------+\n",
      "|Empname|Score_arr1  |Score_arr2   |array_union(Score_arr1, Score_arr2)|\n",
      "+-------+------------+-------------+-----------------------------------+\n",
      "|John   |[10, 20, 20]|[25, 11, 10] |[10, 20, 25, 11]                   |\n",
      "|Robert |[15, 13, 55]|[5, null, 29]|[15, 13, 55, 5, null, 29]          |\n",
      "|James  |[11, 13, 45]|[5, 89, 79]  |[11, 13, 45, 5, 89, 79]            |\n",
      "+-------+------------+-------------+-----------------------------------+\n",
      "\n"
     ]
    }
   ],
   "source": [
    "emp3.select(col(\"*\"),array_union(emp3.Score_arr1,emp3.Score_arr2)).show(truncate=False)"
   ]
  },
  {
   "cell_type": "markdown",
   "metadata": {},
   "source": [
    "## Array_except"
   ]
  },
  {
   "cell_type": "code",
   "execution_count": 43,
   "metadata": {},
   "outputs": [
    {
     "name": "stdout",
     "output_type": "stream",
     "text": [
      "+-------+------------+-------------+------------------------------------+\n",
      "|Empname|Score_arr1  |Score_arr2   |array_except(Score_arr1, Score_arr2)|\n",
      "+-------+------------+-------------+------------------------------------+\n",
      "|John   |[10, 20, 20]|[25, 11, 10] |[20]                                |\n",
      "|Robert |[15, 13, 55]|[5, null, 29]|[15, 13, 55]                        |\n",
      "|James  |[11, 13, 45]|[5, 89, 79]  |[11, 13, 45]                        |\n",
      "+-------+------------+-------------+------------------------------------+\n",
      "\n"
     ]
    }
   ],
   "source": [
    "emp3.select(col(\"*\"),array_except(emp3.Score_arr1,emp3.Score_arr2)).show(truncate=False)"
   ]
  },
  {
   "cell_type": "markdown",
   "metadata": {},
   "source": [
    "### Array_intersect"
   ]
  },
  {
   "cell_type": "code",
   "execution_count": 44,
   "metadata": {},
   "outputs": [
    {
     "name": "stdout",
     "output_type": "stream",
     "text": [
      "+-------+------------+-------------+---------------------------------------+\n",
      "|Empname|Score_arr1  |Score_arr2   |array_intersect(Score_arr1, Score_arr2)|\n",
      "+-------+------------+-------------+---------------------------------------+\n",
      "|John   |[10, 20, 20]|[25, 11, 10] |[10]                                   |\n",
      "|Robert |[15, 13, 55]|[5, null, 29]|[]                                     |\n",
      "|James  |[11, 13, 45]|[5, 89, 79]  |[]                                     |\n",
      "+-------+------------+-------------+---------------------------------------+\n",
      "\n"
     ]
    }
   ],
   "source": [
    "emp3.select(col(\"*\"),array_intersect(emp3.Score_arr1,emp3.Score_arr2)).show(truncate=False)"
   ]
  },
  {
   "cell_type": "markdown",
   "metadata": {},
   "source": [
    "### Array_join"
   ]
  },
  {
   "cell_type": "code",
   "execution_count": 6,
   "metadata": {},
   "outputs": [
    {
     "name": "stdout",
     "output_type": "stream",
     "text": [
      "+-------+------------+-------------+\n",
      "|Empname|  Score_arr1|   Score_arr2|\n",
      "+-------+------------+-------------+\n",
      "|   John|[10, 20, 20]| [25, 11, 10]|\n",
      "| Robert|[15, 13, 55]|[5, null, 29]|\n",
      "|  James|[11, 13, 45]|  [5, 89, 79]|\n",
      "+-------+------------+-------------+\n",
      "\n"
     ]
    }
   ],
   "source": [
    "emp3.show()"
   ]
  },
  {
   "cell_type": "code",
   "execution_count": 7,
   "metadata": {},
   "outputs": [
    {
     "name": "stdout",
     "output_type": "stream",
     "text": [
      "+-------------+-------------------------+\n",
      "|Score_arr2   |array_join(Score_arr2, $)|\n",
      "+-------------+-------------------------+\n",
      "|[25, 11, 10] |25$11$10                 |\n",
      "|[5, null, 29]|5$29                     |\n",
      "|[5, 89, 79]  |5$89$79                  |\n",
      "+-------------+-------------------------+\n",
      "\n"
     ]
    }
   ],
   "source": [
    "emp3.select(\"Score_arr2\",array_join(\"Score_arr2\",\"$\")).show(truncate=False)"
   ]
  },
  {
   "cell_type": "markdown",
   "metadata": {},
   "source": [
    "#### Using null_replacement\n",
    "* Null_replacement-- replacement null value by \"*\""
   ]
  },
  {
   "cell_type": "code",
   "execution_count": 8,
   "metadata": {},
   "outputs": [
    {
     "name": "stdout",
     "output_type": "stream",
     "text": [
      "+-------------+----------------------------+\n",
      "|Score_arr2   |array_join(Score_arr2, $, *)|\n",
      "+-------------+----------------------------+\n",
      "|[25, 11, 10] |25$11$10                    |\n",
      "|[5, null, 29]|5$*$29                      |\n",
      "|[5, 89, 79]  |5$89$79                     |\n",
      "+-------------+----------------------------+\n",
      "\n"
     ]
    }
   ],
   "source": [
    "emp3.select(\"Score_arr2\",array_join(\"Score_arr2\",\"$\",null_replacement=\"*\")).show(truncate=False)"
   ]
  },
  {
   "cell_type": "markdown",
   "metadata": {},
   "source": [
    "## Arrays_zip"
   ]
  },
  {
   "cell_type": "code",
   "execution_count": 9,
   "metadata": {},
   "outputs": [
    {
     "name": "stdout",
     "output_type": "stream",
     "text": [
      "+------------+-------------+----------------------------------+\n",
      "|Score_arr1  |Score_arr2   |arrays_zip(Score_arr1, Score_arr2)|\n",
      "+------------+-------------+----------------------------------+\n",
      "|[10, 20, 20]|[25, 11, 10] |[{10, 25}, {20, 11}, {20, 10}]    |\n",
      "|[15, 13, 55]|[5, null, 29]|[{15, 5}, {13, null}, {55, 29}]   |\n",
      "|[11, 13, 45]|[5, 89, 79]  |[{11, 5}, {13, 89}, {45, 79}]     |\n",
      "+------------+-------------+----------------------------------+\n",
      "\n"
     ]
    }
   ],
   "source": [
    "emp3.select(\"Score_arr1\",\"Score_arr2\",arrays_zip(\"Score_arr1\",\"Score_arr2\")).show(truncate=False)"
   ]
  },
  {
   "cell_type": "markdown",
   "metadata": {},
   "source": [
    "## Create_Map"
   ]
  },
  {
   "cell_type": "code",
   "execution_count": 10,
   "metadata": {},
   "outputs": [
    {
     "name": "stdout",
     "output_type": "stream",
     "text": [
      "+---------+--------+--------------------+--------------------+\n",
      "|FirstName|LastName|           Languages|          Properties|\n",
      "+---------+--------+--------------------+--------------------+\n",
      "|   Alicia|  Joseph|[Java, Scala, Spark]|{Eye -> Brown, Ha...|\n",
      "|   Robert|     Gee|       [Spark, Java]|{Eye -> null, Hai...|\n",
      "|     Mike|  Bianca|            [CSharp]|{Eye -> , Hair ->...|\n",
      "|     John|   Kumar|                null|                null|\n",
      "|     Jeff|       L|              [1, 2]|                  {}|\n",
      "+---------+--------+--------------------+--------------------+\n",
      "\n"
     ]
    }
   ],
   "source": [
    "emp1.show()"
   ]
  },
  {
   "cell_type": "code",
   "execution_count": 11,
   "metadata": {},
   "outputs": [
    {
     "name": "stdout",
     "output_type": "stream",
     "text": [
      "+---------+--------+------------------------+\n",
      "|FirstName|LastName|map(FirstName, LastName)|\n",
      "+---------+--------+------------------------+\n",
      "|Alicia   |Joseph  |{Alicia -> Joseph}      |\n",
      "|Robert   |Gee     |{Robert -> Gee}         |\n",
      "|Mike     |Bianca  |{Mike -> Bianca}        |\n",
      "|John     |Kumar   |{John -> Kumar}         |\n",
      "|Jeff     |L       |{Jeff -> L}             |\n",
      "+---------+--------+------------------------+\n",
      "\n"
     ]
    }
   ],
   "source": [
    "emp1.select(\"FirstName\",\"LastName\",create_map(\"FirstName\",\"LastName\")).show(truncate=False)"
   ]
  },
  {
   "cell_type": "code",
   "execution_count": 12,
   "metadata": {},
   "outputs": [
    {
     "name": "stdout",
     "output_type": "stream",
     "text": [
      "root\n",
      " |-- FirstName: string (nullable = true)\n",
      " |-- LastName: string (nullable = true)\n",
      " |-- map(FirstName, LastName): map (nullable = false)\n",
      " |    |-- key: string\n",
      " |    |-- value: string (valueContainsNull = true)\n",
      "\n"
     ]
    }
   ],
   "source": [
    "emp1.select(\"FirstName\",\"LastName\",create_map(\"FirstName\",\"LastName\")).printSchema()"
   ]
  },
  {
   "cell_type": "markdown",
   "metadata": {},
   "source": [
    "## map_from_arrays()"
   ]
  },
  {
   "cell_type": "code",
   "execution_count": 24,
   "metadata": {},
   "outputs": [
    {
     "name": "stdout",
     "output_type": "stream",
     "text": [
      "+------+------+\n",
      "|     k|     v|\n",
      "+------+------+\n",
      "|[2, 5]|[a, b]|\n",
      "+------+------+\n",
      "\n"
     ]
    }
   ],
   "source": [
    "dd = spark.createDataFrame([([2, 5], ['a', 'b'])], ['k', 'v'])\n",
    "dd.show()"
   ]
  },
  {
   "cell_type": "code",
   "execution_count": 25,
   "metadata": {},
   "outputs": [
    {
     "name": "stdout",
     "output_type": "stream",
     "text": [
      "+----------------+\n",
      "|             map|\n",
      "+----------------+\n",
      "|{2 -> a, 5 -> b}|\n",
      "+----------------+\n",
      "\n"
     ]
    }
   ],
   "source": [
    "dd.select(map_from_arrays(dd.k, dd.v).alias(\"map\")).show()"
   ]
  },
  {
   "cell_type": "markdown",
   "metadata": {},
   "source": [
    "## Map_keys"
   ]
  },
  {
   "cell_type": "code",
   "execution_count": 26,
   "metadata": {},
   "outputs": [
    {
     "name": "stdout",
     "output_type": "stream",
     "text": [
      "+---------+--------+--------------------+--------------------+\n",
      "|FirstName|LastName|           Languages|          Properties|\n",
      "+---------+--------+--------------------+--------------------+\n",
      "|   Alicia|  Joseph|[Java, Scala, Spark]|{Eye -> Brown, Ha...|\n",
      "|   Robert|     Gee|       [Spark, Java]|{Eye -> null, Hai...|\n",
      "|     Mike|  Bianca|            [CSharp]|{Eye -> , Hair ->...|\n",
      "|     John|   Kumar|                null|                null|\n",
      "|     Jeff|       L|              [1, 2]|                  {}|\n",
      "+---------+--------+--------------------+--------------------+\n",
      "\n"
     ]
    }
   ],
   "source": [
    "emp1.show()"
   ]
  },
  {
   "cell_type": "code",
   "execution_count": 27,
   "metadata": {},
   "outputs": [
    {
     "name": "stdout",
     "output_type": "stream",
     "text": [
      "root\n",
      " |-- FirstName: string (nullable = true)\n",
      " |-- LastName: string (nullable = true)\n",
      " |-- Languages: array (nullable = true)\n",
      " |    |-- element: string (containsNull = true)\n",
      " |-- Properties: map (nullable = true)\n",
      " |    |-- key: string\n",
      " |    |-- value: string (valueContainsNull = true)\n",
      "\n"
     ]
    }
   ],
   "source": [
    "emp1.printSchema()"
   ]
  },
  {
   "cell_type": "code",
   "execution_count": 28,
   "metadata": {},
   "outputs": [
    {
     "name": "stdout",
     "output_type": "stream",
     "text": [
      "+--------------------+\n",
      "|map_keys(Properties)|\n",
      "+--------------------+\n",
      "|         [Eye, Hair]|\n",
      "|         [Eye, Hair]|\n",
      "|         [Eye, Hair]|\n",
      "|                null|\n",
      "|                  []|\n",
      "+--------------------+\n",
      "\n"
     ]
    }
   ],
   "source": [
    "emp1.select(map_keys(emp1.Properties)).show()"
   ]
  },
  {
   "cell_type": "markdown",
   "metadata": {},
   "source": [
    "## Map_values"
   ]
  },
  {
   "cell_type": "code",
   "execution_count": 29,
   "metadata": {},
   "outputs": [
    {
     "name": "stdout",
     "output_type": "stream",
     "text": [
      "+----------------------+\n",
      "|map_values(Properties)|\n",
      "+----------------------+\n",
      "|        [Brown, Black]|\n",
      "|         [null, Brown]|\n",
      "|               [, Red]|\n",
      "|                  null|\n",
      "|                    []|\n",
      "+----------------------+\n",
      "\n"
     ]
    }
   ],
   "source": [
    "emp1.select(map_values(emp1.Properties)).show()"
   ]
  },
  {
   "cell_type": "markdown",
   "metadata": {},
   "source": [
    "## Map_concat\n",
    "* concat two map columns"
   ]
  },
  {
   "cell_type": "code",
   "execution_count": 34,
   "metadata": {},
   "outputs": [
    {
     "name": "stdout",
     "output_type": "stream",
     "text": [
      "+------------------------+\n",
      "|map3                    |\n",
      "+------------------------+\n",
      "|{1 -> a, 2 -> b, 3 -> c}|\n",
      "+------------------------+\n",
      "\n"
     ]
    }
   ],
   "source": [
    "df = spark.sql(\"SELECT map(1, 'a', 2, 'b') as map1, map(3, 'c') as map2\")\n",
    "df.select(map_concat(\"map1\", \"map2\").alias(\"map3\")).show(truncate=False)"
   ]
  },
  {
   "cell_type": "markdown",
   "metadata": {},
   "source": [
    "## Sequence\n",
    "* works like range function of python (from, to,step)"
   ]
  },
  {
   "cell_type": "code",
   "execution_count": 35,
   "metadata": {},
   "outputs": [
    {
     "name": "stdout",
     "output_type": "stream",
     "text": [
      "+------+------+------+------+\n",
      "|  Name|Score1|Score2|Score3|\n",
      "+------+------+------+------+\n",
      "|Robert|    35|    40|    40|\n",
      "|   Ram|    31|    33|    29|\n",
      "|  John|    95|    89|    91|\n",
      "+------+------+------+------+\n",
      "\n"
     ]
    }
   ],
   "source": [
    "emp2.show()"
   ]
  },
  {
   "cell_type": "code",
   "execution_count": 37,
   "metadata": {},
   "outputs": [
    {
     "name": "stdout",
     "output_type": "stream",
     "text": [
      "+------+------+----------------------------+\n",
      "|Score1|Score2|Sequence                    |\n",
      "+------+------+----------------------------+\n",
      "|35    |40    |[35, 36, 37, 38, 39, 40]    |\n",
      "|31    |33    |[31, 32, 33]                |\n",
      "|95    |89    |[95, 94, 93, 92, 91, 90, 89]|\n",
      "+------+------+----------------------------+\n",
      "\n"
     ]
    }
   ],
   "source": [
    "emp2.select(\"Score1\",\"Score2\",sequence(\"Score1\",\"Score2\").alias(\"Sequence\")).show(truncate=False)"
   ]
  },
  {
   "cell_type": "code",
   "execution_count": null,
   "metadata": {},
   "outputs": [],
   "source": []
  }
 ],
 "metadata": {
  "kernelspec": {
   "display_name": "Python [conda env:SPARK_HOME]",
   "language": "python",
   "name": "conda-env-SPARK_HOME-py"
  },
  "language_info": {
   "codemirror_mode": {
    "name": "ipython",
    "version": 3
   },
   "file_extension": ".py",
   "mimetype": "text/x-python",
   "name": "python",
   "nbconvert_exporter": "python",
   "pygments_lexer": "ipython3",
   "version": "3.7.13"
  }
 },
 "nbformat": 4,
 "nbformat_minor": 4
}
